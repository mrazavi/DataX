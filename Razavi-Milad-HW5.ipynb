{
 "cells": [
  {
   "cell_type": "markdown",
   "metadata": {},
   "source": [
    "# Theoretical Questions"
   ]
  },
  {
   "cell_type": "markdown",
   "metadata": {},
   "source": [
    "### Q1: \n",
    "What could be some issues if the distribution of the test data is significantly different than the distribution of the training data?"
   ]
  },
  {
   "cell_type": "code",
   "execution_count": 1,
   "metadata": {
    "collapsed": true
   },
   "outputs": [],
   "source": [
    "# ---- Your Answer ---- #\n",
    "# This is a problem of dataset shift, which could lead to inaccuracy of \n",
    "# the model. Reasons can range from the irreproducible nature of testing\n",
    "# conditions given a training time, to the bias of sample selection such \n",
    "# as non-uniform selection."
   ]
  },
  {
   "cell_type": "markdown",
   "metadata": {},
   "source": [
    "### Q2:\n",
    "\n",
    "What are some differences you would expect in a model that minimizes squared error, versus a model that minimizes absolute error? \n",
    "\n",
    "In which case would each error metric be appropriate?"
   ]
  },
  {
   "cell_type": "code",
   "execution_count": 2,
   "metadata": {
    "collapsed": true
   },
   "outputs": [],
   "source": [
    "# ---- Your Answer ---- #\n",
    "# Minimizing the squared results in finding the mean, whereas minimizing\n",
    "# the absolute error results in the median. The squared error is easier\n",
    "# to solve for, the absolute error is more robust to outliers.\n",
    "\n",
    "# If the delta between the actual and predicted value is large, the \n",
    "# squared delta will be larger than the absolute error. You'd want to use\n",
    "# squared error to limit large errors. If there are more outliers or noise\n",
    "# in target value, minimizing absolute error would be better."
   ]
  },
  {
   "cell_type": "markdown",
   "metadata": {},
   "source": [
    "### Q3:\n",
    "\n",
    "What error metric would you use to evaluate how good a binary classifier is?\n",
    "\n",
    "What if the classes are imbalanced?\n",
    "\n",
    "What if there are more than 2 groups?"
   ]
  },
  {
   "cell_type": "code",
   "execution_count": 3,
   "metadata": {
    "collapsed": true
   },
   "outputs": [],
   "source": [
    "# ---- Your Answer ---- #\n",
    "# When analyzing binary classification, the F1 score measures test accuracy\n",
    "# by considering both precision and recall and uses a system of weightings.\n",
    "# If the classes are imbalanced, you'd just change the weightings in the F1\n",
    "# score.\n",
    "# For more than 2 groups, you can use an error matrix or confusion matrix\n",
    "# to visualize the performance. "
   ]
  },
  {
   "cell_type": "markdown",
   "metadata": {},
   "source": [
    "### Q4: \n",
    "\n",
    "Why might it be preferable to include fewer predictors over many?\n"
   ]
  },
  {
   "cell_type": "code",
   "execution_count": 4,
   "metadata": {
    "collapsed": true
   },
   "outputs": [],
   "source": [
    "# ---- Your Answer ---- #\n",
    "# To reduce your risk of overfitting. "
   ]
  },
  {
   "cell_type": "markdown",
   "metadata": {},
   "source": [
    "# Programming Homework"
   ]
  },
  {
   "cell_type": "markdown",
   "metadata": {},
   "source": [
    "### Question: Forest Cover Type Prediction\n",
    "\n",
    "###### Focus: Multi-Class Classification\n",
    "\n",
    "In the second part of this week's programming homework, you are tasked to develop a classification system to classify forest categories.\n",
    "\n",
    "The interesting part of the dataset is that the predictors are all cartographic rather than remotely sensed data. \n",
    "\n",
    "Data is available at:  https://www.kaggle.com/c/forest-cover-type-prediction\n",
    "\n",
    "* train.csv : the file provides both the predictors and response varaible\n",
    "* test.csv  : the file provides predictors\n",
    "* sampleSubmission.csv: the file provides the format that we expect you to provide\n",
    "\n",
    "Your task:\n",
    "* Understand and visualize the data collected by the US Forest Service\n",
    "* Build a classifier which can accurately classify the forest cover\n",
    "\n",
    "Hints:\n",
    "* Always start with a data walk (i.e. visualization, data exploration) \n",
    "* Consider standardizing the predictors\n",
    "* Always consider a simple model\n",
    "* Consider feature engineering\n",
    "* Always use Cross Validation to conduct model selection\n",
    "* Pandas (a python package) has functions to deal with timestamps effectively\n",
    "\n",
    "\n",
    "\n"
   ]
  },
  {
   "cell_type": "code",
   "execution_count": 14,
   "metadata": {
    "collapsed": true
   },
   "outputs": [],
   "source": [
    "import pandas as pd\n",
    "import numpy as np\n",
    "from sklearn.neighbors import KNeighborsClassifier\n",
    "from sklearn.linear_model import LogisticRegression\n",
    "from sklearn.metrics import accuracy_score, confusion_matrix, recall_score, precision_score\n",
    "from sklearn.linear_model import Perceptron\n",
    "from sklearn.tree import DecisionTreeClassifier\n",
    "from sklearn.ensemble import RandomForestClassifier\n",
    "\n",
    "import matplotlib.pyplot as plt\n",
    "\n",
    "%matplotlib inline\n",
    "\n",
    "dftrain = pd.read_csv('train.csv', index_col = 'Id')\n",
    "dftest = pd.read_csv('test.csv', index_col = 'Id')"
   ]
  },
  {
   "cell_type": "code",
   "execution_count": 90,
   "metadata": {
    "collapsed": false
   },
   "outputs": [
    {
     "data": {
      "text/html": [
       "<div>\n",
       "<table border=\"1\" class=\"dataframe\">\n",
       "  <thead>\n",
       "    <tr style=\"text-align: right;\">\n",
       "      <th></th>\n",
       "      <th>Elevation</th>\n",
       "      <th>Aspect</th>\n",
       "      <th>Slope</th>\n",
       "      <th>Horizontal_Distance_To_Hydrology</th>\n",
       "      <th>Vertical_Distance_To_Hydrology</th>\n",
       "      <th>Horizontal_Distance_To_Roadways</th>\n",
       "      <th>Hillshade_9am</th>\n",
       "      <th>Hillshade_Noon</th>\n",
       "      <th>Hillshade_3pm</th>\n",
       "      <th>Horizontal_Distance_To_Fire_Points</th>\n",
       "      <th>...</th>\n",
       "      <th>Soil_Type32</th>\n",
       "      <th>Soil_Type33</th>\n",
       "      <th>Soil_Type34</th>\n",
       "      <th>Soil_Type35</th>\n",
       "      <th>Soil_Type36</th>\n",
       "      <th>Soil_Type37</th>\n",
       "      <th>Soil_Type38</th>\n",
       "      <th>Soil_Type39</th>\n",
       "      <th>Soil_Type40</th>\n",
       "      <th>Cover_Type</th>\n",
       "    </tr>\n",
       "  </thead>\n",
       "  <tbody>\n",
       "    <tr>\n",
       "      <th>count</th>\n",
       "      <td>15120.000000</td>\n",
       "      <td>15120.000000</td>\n",
       "      <td>15120.000000</td>\n",
       "      <td>15120.000000</td>\n",
       "      <td>15120.000000</td>\n",
       "      <td>15120.000000</td>\n",
       "      <td>15120.000000</td>\n",
       "      <td>15120.000000</td>\n",
       "      <td>15120.000000</td>\n",
       "      <td>15120.000000</td>\n",
       "      <td>...</td>\n",
       "      <td>15120.000000</td>\n",
       "      <td>15120.000000</td>\n",
       "      <td>15120.000000</td>\n",
       "      <td>15120.000000</td>\n",
       "      <td>15120.000000</td>\n",
       "      <td>15120.000000</td>\n",
       "      <td>15120.000000</td>\n",
       "      <td>15120.000000</td>\n",
       "      <td>15120.000000</td>\n",
       "      <td>15120.000000</td>\n",
       "    </tr>\n",
       "    <tr>\n",
       "      <th>mean</th>\n",
       "      <td>2749.322553</td>\n",
       "      <td>156.676653</td>\n",
       "      <td>16.501587</td>\n",
       "      <td>227.195701</td>\n",
       "      <td>51.076521</td>\n",
       "      <td>1714.023214</td>\n",
       "      <td>212.704299</td>\n",
       "      <td>218.965608</td>\n",
       "      <td>135.091997</td>\n",
       "      <td>1511.147288</td>\n",
       "      <td>...</td>\n",
       "      <td>0.045635</td>\n",
       "      <td>0.040741</td>\n",
       "      <td>0.001455</td>\n",
       "      <td>0.006746</td>\n",
       "      <td>0.000661</td>\n",
       "      <td>0.002249</td>\n",
       "      <td>0.048148</td>\n",
       "      <td>0.043452</td>\n",
       "      <td>0.030357</td>\n",
       "      <td>4.000000</td>\n",
       "    </tr>\n",
       "    <tr>\n",
       "      <th>std</th>\n",
       "      <td>417.678187</td>\n",
       "      <td>110.085801</td>\n",
       "      <td>8.453927</td>\n",
       "      <td>210.075296</td>\n",
       "      <td>61.239406</td>\n",
       "      <td>1325.066358</td>\n",
       "      <td>30.561287</td>\n",
       "      <td>22.801966</td>\n",
       "      <td>45.895189</td>\n",
       "      <td>1099.936493</td>\n",
       "      <td>...</td>\n",
       "      <td>0.208699</td>\n",
       "      <td>0.197696</td>\n",
       "      <td>0.038118</td>\n",
       "      <td>0.081859</td>\n",
       "      <td>0.025710</td>\n",
       "      <td>0.047368</td>\n",
       "      <td>0.214086</td>\n",
       "      <td>0.203880</td>\n",
       "      <td>0.171574</td>\n",
       "      <td>2.000066</td>\n",
       "    </tr>\n",
       "    <tr>\n",
       "      <th>min</th>\n",
       "      <td>1863.000000</td>\n",
       "      <td>0.000000</td>\n",
       "      <td>0.000000</td>\n",
       "      <td>0.000000</td>\n",
       "      <td>-146.000000</td>\n",
       "      <td>0.000000</td>\n",
       "      <td>0.000000</td>\n",
       "      <td>99.000000</td>\n",
       "      <td>0.000000</td>\n",
       "      <td>0.000000</td>\n",
       "      <td>...</td>\n",
       "      <td>0.000000</td>\n",
       "      <td>0.000000</td>\n",
       "      <td>0.000000</td>\n",
       "      <td>0.000000</td>\n",
       "      <td>0.000000</td>\n",
       "      <td>0.000000</td>\n",
       "      <td>0.000000</td>\n",
       "      <td>0.000000</td>\n",
       "      <td>0.000000</td>\n",
       "      <td>1.000000</td>\n",
       "    </tr>\n",
       "    <tr>\n",
       "      <th>25%</th>\n",
       "      <td>2376.000000</td>\n",
       "      <td>65.000000</td>\n",
       "      <td>10.000000</td>\n",
       "      <td>67.000000</td>\n",
       "      <td>5.000000</td>\n",
       "      <td>764.000000</td>\n",
       "      <td>196.000000</td>\n",
       "      <td>207.000000</td>\n",
       "      <td>106.000000</td>\n",
       "      <td>730.000000</td>\n",
       "      <td>...</td>\n",
       "      <td>0.000000</td>\n",
       "      <td>0.000000</td>\n",
       "      <td>0.000000</td>\n",
       "      <td>0.000000</td>\n",
       "      <td>0.000000</td>\n",
       "      <td>0.000000</td>\n",
       "      <td>0.000000</td>\n",
       "      <td>0.000000</td>\n",
       "      <td>0.000000</td>\n",
       "      <td>2.000000</td>\n",
       "    </tr>\n",
       "    <tr>\n",
       "      <th>50%</th>\n",
       "      <td>2752.000000</td>\n",
       "      <td>126.000000</td>\n",
       "      <td>15.000000</td>\n",
       "      <td>180.000000</td>\n",
       "      <td>32.000000</td>\n",
       "      <td>1316.000000</td>\n",
       "      <td>220.000000</td>\n",
       "      <td>223.000000</td>\n",
       "      <td>138.000000</td>\n",
       "      <td>1256.000000</td>\n",
       "      <td>...</td>\n",
       "      <td>0.000000</td>\n",
       "      <td>0.000000</td>\n",
       "      <td>0.000000</td>\n",
       "      <td>0.000000</td>\n",
       "      <td>0.000000</td>\n",
       "      <td>0.000000</td>\n",
       "      <td>0.000000</td>\n",
       "      <td>0.000000</td>\n",
       "      <td>0.000000</td>\n",
       "      <td>4.000000</td>\n",
       "    </tr>\n",
       "    <tr>\n",
       "      <th>75%</th>\n",
       "      <td>3104.000000</td>\n",
       "      <td>261.000000</td>\n",
       "      <td>22.000000</td>\n",
       "      <td>330.000000</td>\n",
       "      <td>79.000000</td>\n",
       "      <td>2270.000000</td>\n",
       "      <td>235.000000</td>\n",
       "      <td>235.000000</td>\n",
       "      <td>167.000000</td>\n",
       "      <td>1988.250000</td>\n",
       "      <td>...</td>\n",
       "      <td>0.000000</td>\n",
       "      <td>0.000000</td>\n",
       "      <td>0.000000</td>\n",
       "      <td>0.000000</td>\n",
       "      <td>0.000000</td>\n",
       "      <td>0.000000</td>\n",
       "      <td>0.000000</td>\n",
       "      <td>0.000000</td>\n",
       "      <td>0.000000</td>\n",
       "      <td>6.000000</td>\n",
       "    </tr>\n",
       "    <tr>\n",
       "      <th>max</th>\n",
       "      <td>3849.000000</td>\n",
       "      <td>360.000000</td>\n",
       "      <td>52.000000</td>\n",
       "      <td>1343.000000</td>\n",
       "      <td>554.000000</td>\n",
       "      <td>6890.000000</td>\n",
       "      <td>254.000000</td>\n",
       "      <td>254.000000</td>\n",
       "      <td>248.000000</td>\n",
       "      <td>6993.000000</td>\n",
       "      <td>...</td>\n",
       "      <td>1.000000</td>\n",
       "      <td>1.000000</td>\n",
       "      <td>1.000000</td>\n",
       "      <td>1.000000</td>\n",
       "      <td>1.000000</td>\n",
       "      <td>1.000000</td>\n",
       "      <td>1.000000</td>\n",
       "      <td>1.000000</td>\n",
       "      <td>1.000000</td>\n",
       "      <td>7.000000</td>\n",
       "    </tr>\n",
       "  </tbody>\n",
       "</table>\n",
       "<p>8 rows × 55 columns</p>\n",
       "</div>"
      ],
      "text/plain": [
       "          Elevation        Aspect         Slope  \\\n",
       "count  15120.000000  15120.000000  15120.000000   \n",
       "mean    2749.322553    156.676653     16.501587   \n",
       "std      417.678187    110.085801      8.453927   \n",
       "min     1863.000000      0.000000      0.000000   \n",
       "25%     2376.000000     65.000000     10.000000   \n",
       "50%     2752.000000    126.000000     15.000000   \n",
       "75%     3104.000000    261.000000     22.000000   \n",
       "max     3849.000000    360.000000     52.000000   \n",
       "\n",
       "       Horizontal_Distance_To_Hydrology  Vertical_Distance_To_Hydrology  \\\n",
       "count                      15120.000000                    15120.000000   \n",
       "mean                         227.195701                       51.076521   \n",
       "std                          210.075296                       61.239406   \n",
       "min                            0.000000                     -146.000000   \n",
       "25%                           67.000000                        5.000000   \n",
       "50%                          180.000000                       32.000000   \n",
       "75%                          330.000000                       79.000000   \n",
       "max                         1343.000000                      554.000000   \n",
       "\n",
       "       Horizontal_Distance_To_Roadways  Hillshade_9am  Hillshade_Noon  \\\n",
       "count                     15120.000000   15120.000000    15120.000000   \n",
       "mean                       1714.023214     212.704299      218.965608   \n",
       "std                        1325.066358      30.561287       22.801966   \n",
       "min                           0.000000       0.000000       99.000000   \n",
       "25%                         764.000000     196.000000      207.000000   \n",
       "50%                        1316.000000     220.000000      223.000000   \n",
       "75%                        2270.000000     235.000000      235.000000   \n",
       "max                        6890.000000     254.000000      254.000000   \n",
       "\n",
       "       Hillshade_3pm  Horizontal_Distance_To_Fire_Points      ...       \\\n",
       "count   15120.000000                        15120.000000      ...        \n",
       "mean      135.091997                         1511.147288      ...        \n",
       "std        45.895189                         1099.936493      ...        \n",
       "min         0.000000                            0.000000      ...        \n",
       "25%       106.000000                          730.000000      ...        \n",
       "50%       138.000000                         1256.000000      ...        \n",
       "75%       167.000000                         1988.250000      ...        \n",
       "max       248.000000                         6993.000000      ...        \n",
       "\n",
       "        Soil_Type32   Soil_Type33   Soil_Type34   Soil_Type35   Soil_Type36  \\\n",
       "count  15120.000000  15120.000000  15120.000000  15120.000000  15120.000000   \n",
       "mean       0.045635      0.040741      0.001455      0.006746      0.000661   \n",
       "std        0.208699      0.197696      0.038118      0.081859      0.025710   \n",
       "min        0.000000      0.000000      0.000000      0.000000      0.000000   \n",
       "25%        0.000000      0.000000      0.000000      0.000000      0.000000   \n",
       "50%        0.000000      0.000000      0.000000      0.000000      0.000000   \n",
       "75%        0.000000      0.000000      0.000000      0.000000      0.000000   \n",
       "max        1.000000      1.000000      1.000000      1.000000      1.000000   \n",
       "\n",
       "        Soil_Type37   Soil_Type38   Soil_Type39   Soil_Type40    Cover_Type  \n",
       "count  15120.000000  15120.000000  15120.000000  15120.000000  15120.000000  \n",
       "mean       0.002249      0.048148      0.043452      0.030357      4.000000  \n",
       "std        0.047368      0.214086      0.203880      0.171574      2.000066  \n",
       "min        0.000000      0.000000      0.000000      0.000000      1.000000  \n",
       "25%        0.000000      0.000000      0.000000      0.000000      2.000000  \n",
       "50%        0.000000      0.000000      0.000000      0.000000      4.000000  \n",
       "75%        0.000000      0.000000      0.000000      0.000000      6.000000  \n",
       "max        1.000000      1.000000      1.000000      1.000000      7.000000  \n",
       "\n",
       "[8 rows x 55 columns]"
      ]
     },
     "execution_count": 90,
     "metadata": {},
     "output_type": "execute_result"
    },
    {
     "data": {
      "image/png": "[encoded data removed]",
      "text/plain": [
       "<matplotlib.figure.Figure at 0x11a5478d0>"
      ]
     },
     "metadata": {},
     "output_type": "display_data"
    }
   ],
   "source": [
    "dftrain['Cover_Type'].plot.hist(alpha = 0.5)\n",
    "dftrain.describe()"
   ]
  },
  {
   "cell_type": "code",
   "execution_count": 15,
   "metadata": {
    "collapsed": false
   },
   "outputs": [],
   "source": [
    "trainY = dftrain.Cover_Type\n",
    "trainX = dftrain.copy()\n",
    "del trainX['Cover_Type']"
   ]
  },
  {
   "cell_type": "code",
   "execution_count": 99,
   "metadata": {
    "collapsed": false
   },
   "outputs": [],
   "source": [
    "dtree = DecisionTreeClassifier()\n",
    "dtree.fit(trainX, trainY)\n",
    "pred = dtree.predict(dftest)"
   ]
  },
  {
   "cell_type": "code",
   "execution_count": 98,
   "metadata": {
    "collapsed": false
   },
   "outputs": [],
   "source": [
    "rforest = RandomForestClassifier()\n",
    "rforest.fit(trainX, trainY)\n",
    "predict = rforest.predict(dftest)"
   ]
  },
  {
   "cell_type": "code",
   "execution_count": 95,
   "metadata": {
    "collapsed": false
   },
   "outputs": [],
   "source": [
    "TreeSubmit = dftest.copy()\n",
    "TreeSubmit['Id'] = TreeSubmit.index\n",
    "TreeSubmit['Cover_Type'] = pred\n",
    "Final_dtree = TreeSubmit.iloc[:, 55:56]"
   ]
  },
  {
   "cell_type": "code",
   "execution_count": 97,
   "metadata": {
    "collapsed": false
   },
   "outputs": [],
   "source": [
    "ForestSubmit = dftest.copy()\n",
    "ForestSubmit['Id'] = ForestSubmit.index\n",
    "ForestSubmit['Cover_Type'] = predict\n",
    "Final_dforest = ForestSubmit.iloc[:, 55:56]"
   ]
  },
  {
   "cell_type": "code",
   "execution_count": 91,
   "metadata": {
    "collapsed": true
   },
   "outputs": [],
   "source": [
    "Final_dtree.to_csv('Decision_Tree.csv')\n",
    "Final_dforest.to_csv('Random_Forest.csv')"
   ]
  },
  {
   "cell_type": "markdown",
   "metadata": {
    "collapsed": true
   },
   "source": [
    "## Prioject Homework\n",
    "\n",
    "0. Create and turn in a \"Product Requirement Document\" that has these items in it.\n",
    "\n",
    "1. Include 2 prioritized lists of requirements:\n",
    "\n",
    "    * user requirements, mark items where you have low confidence\n",
    "    * technical requirements, mark items where you have low confidence\n",
    "\n",
    "2. Decide how you will validate user requirements which you are not sure about?\n",
    "\n",
    "3. Decide how you will learn and test techcical challenges that you are not sure thatyou can achieve at this time.\n",
    "\n",
    "4. Whiteboard or draw an architecture and/or data model based on what you know.  Take a picture of it and include it in the document\n",
    "\n",
    "5. Make your list of what should be done in the next week, assign names to each item.\n",
    "\n",
    "6. Insert your low tech demo picture (possibly modified) into this document\n",
    "\n",
    "Turn in this document and also start a folder for your project and save it for your own review later.\n",
    "\n",
    "\n"
   ]
  },
  {
   "cell_type": "markdown",
   "metadata": {},
   "source": [
    "## Extra Credit: Forecasting Bike Sharing Demand \n",
    "\n",
    "###### Focus: Regression and Feature Engineering\n",
    "\n",
    "In this week's programming homework, you are tasked to develop a forecasting system for the use of a city bikeshare system. \n",
    "\n",
    "The question is based on a for-knowledge competition hosted on Kaggle: \n",
    "Reference: Fanaee-T, Hadi, and Gamo, Joao, Event labeling combining detectors and background knowledge, Progress in Artificial Intelligence (2013): pp. 1-15, Springer Berlin Heidelberg.\n",
    "\n",
    "Data is available at: https://www.kaggle.com/c/bike-sharing-demand\n",
    "\n",
    "3 files are provided:\n",
    "* train.csv : the file provides both the predictors and response varaible\n",
    "* test.csv  : the file provides predictors\n",
    "* sampleSubmission.csv: the file provides the format that we expect you to provide\n",
    "\n",
    "Your task:\n",
    "* Understand and visualize the data generated by bike sharing systems\n",
    "* Predict the number of total rentals in each time period during the test phase\n",
    "\n",
    "Hints: \n",
    "* Always start with a data walk (i.e. visualization, data exploration) \n",
    "* Consider standardizing the predictors\n",
    "* Always consider a simple model\n",
    "* Consider feature engineering\n",
    "* Always use Cross Validation to conduct model selection\n",
    "* Pandas (a python package) has functions to deal with timestamps effectively\n",
    "\n",
    "\n"
   ]
  },
  {
   "cell_type": "code",
   "execution_count": null,
   "metadata": {
    "collapsed": true
   },
   "outputs": [],
   "source": []
  }
 ],
 "metadata": {
  "anaconda-cloud": {},
  "kernelspec": {
   "display_name": "Python 2",
   "language": "python",
   "name": "python2"
  },
  "language_info": {
   "codemirror_mode": {
    "name": "ipython",
    "version": 2
   },
   "file_extension": ".py",
   "mimetype": "text/x-python",
   "name": "python",
   "nbconvert_exporter": "python",
   "pygments_lexer": "ipython2",
   "version": "2.7.13"
  }
 },
 "nbformat": 4,
 "nbformat_minor": 0
}
